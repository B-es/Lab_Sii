{
  "nbformat": 4,
  "nbformat_minor": 0,
  "metadata": {
    "colab": {
      "provenance": [],
      "collapsed_sections": [],
      "authorship_tag": "ABX9TyMm0+jOLiw6507WfEoPIWYx",
      "include_colab_link": true
    },
    "kernelspec": {
      "name": "python3",
      "display_name": "Python 3"
    },
    "language_info": {
      "name": "python"
    }
  },
  "cells": [
    {
      "cell_type": "markdown",
      "metadata": {
        "id": "view-in-github",
        "colab_type": "text"
      },
      "source": [
        "<a href=\"https://colab.research.google.com/github/B-es/Lab_Sii/blob/main/Lab_01_steamGames.ipynb\" target=\"_parent\"><img src=\"https://colab.research.google.com/assets/colab-badge.svg\" alt=\"Open In Colab\"/></a>"
      ]
    },
    {
      "cell_type": "code",
      "execution_count": 116,
      "metadata": {
        "colab": {
          "base_uri": "https://localhost:8080/"
        },
        "id": "UatquBeW2Jp3",
        "outputId": "e8ac69d3-3c16-45f9-9f05-986fd3e924f8"
      },
      "outputs": [
        {
          "output_type": "stream",
          "name": "stdout",
          "text": [
            "                        Не GenreIsNonGame пр  GenreIsNonGame пр\n",
            "Не GenreIsNonGame факт                 12320                  6\n",
            "GenreIsNonGame факт                      157                141\n",
            "1\n"
          ]
        }
      ],
      "source": [
        "import pandas as pd\n",
        "\n",
        "games = pd.read_csv(\"/content/games-features-edit.csv\")\n",
        "\n",
        "#Выборка данных\n",
        "games.drop(columns = ['ReleaseDate'], axis = 1, inplace = True)\n",
        "games.dropna(inplace = True)\n",
        "\n",
        "#isFree = games['IsFree']\n",
        "#price = games['PriceInitial']\n",
        "\n",
        "#isFree = pd.get_dummies(isFree, drop_first = True)\n",
        "\n",
        "#games = pd.concat([games, isFree, price], axis = 1)\n",
        "\n",
        "games.columns = games.columns.map(str)\n",
        "\n",
        "#Нормализация данных\n",
        "from sklearn.preprocessing import StandardScaler\n",
        "\n",
        "scaler = StandardScaler()\n",
        "\n",
        "cols_to_scale = ['RecommendationCount', 'PriceInitial']\n",
        "\n",
        "scaler.fit(games[cols_to_scale])\n",
        "\n",
        "games[cols_to_scale] = scaler.transform(games[cols_to_scale])\n",
        "\n",
        "\n",
        "#Разделение на целевую и признаки\n",
        "games.drop(['ResponseName', 'Metacritic'], axis = 1, inplace = True)\n",
        "\n",
        "\n",
        "x_gm = games.drop(['GenreIsNonGame'], axis = 1)\n",
        "y_gm = games['GenreIsNonGame']\n",
        "\n",
        "\n",
        "#Обучение модели\n",
        "from sklearn.linear_model import LogisticRegression\n",
        "\n",
        "model = LogisticRegression()\n",
        "\n",
        "model.fit(x_gm, y_gm)\n",
        "\n",
        "y_pred = model.predict(x_gm)\n",
        "\n",
        "from sklearn.metrics import confusion_matrix\n",
        "\n",
        "cmatrix = confusion_matrix(y_gm, y_pred)\n",
        "\n",
        "cmatrix_df = pd.DataFrame(cmatrix)\n",
        "\n",
        "cmatrix_labels = pd.DataFrame(cmatrix, columns = ['Не GenreIsNonGame пр', 'GenreIsNonGame пр'], index = ['Не GenreIsNonGame факт', 'GenreIsNonGame факт'])\n",
        "\n",
        "from sklearn.metrics import accuracy_score\n",
        "\n",
        "acModel = accuracy_score(y_gm, y_pred)\n",
        "\n",
        "print(cmatrix_labels)\n",
        "\n",
        "games.head(3)\n",
        "print(round(acModel))\n"
      ]
    },
    {
      "cell_type": "markdown",
      "source": [],
      "metadata": {
        "id": "hylApyKaGzC1"
      }
    }
  ]
}