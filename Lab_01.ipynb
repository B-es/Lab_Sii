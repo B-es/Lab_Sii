{
  "nbformat": 4,
  "nbformat_minor": 0,
  "metadata": {
    "colab": {
      "provenance": [],
      "collapsed_sections": [],
      "authorship_tag": "ABX9TyM7LhL9Otzz18ystfxz+1KI",
      "include_colab_link": true
    },
    "kernelspec": {
      "name": "python3",
      "display_name": "Python 3"
    },
    "language_info": {
      "name": "python"
    }
  },
  "cells": [
    {
      "cell_type": "markdown",
      "metadata": {
        "id": "view-in-github",
        "colab_type": "text"
      },
      "source": [
        "<a href=\"https://colab.research.google.com/github/B-es/Lab_Sii/blob/main/Lab_01.ipynb\" target=\"_parent\"><img src=\"https://colab.research.google.com/assets/colab-badge.svg\" alt=\"Open In Colab\"/></a>"
      ]
    },
    {
      "cell_type": "code",
      "execution_count": 100,
      "metadata": {
        "colab": {
          "base_uri": "https://localhost:8080/"
        },
        "id": "obtJxKkHek9P",
        "outputId": "478996f4-a9dc-4ca6-cdfa-2f3f55cc6aff"
      },
      "outputs": [
        {
          "output_type": "stream",
          "name": "stdout",
          "text": [
            "            Прогноз погиб  Прогноз выжил\n",
            "Факт погиб            478             71\n",
            "Факт выжил            103            237\n",
            "0.804\n",
            "0.804\n",
            "[0 0 0 0 1 0 1 0 1 0]\n",
            "Всё заебись\n"
          ]
        }
      ],
      "source": [
        "import os\n",
        "import pandas as pd\n",
        "import seaborn as sns\n",
        "\n",
        "# for dirpath, _, filenames in os.walk('/content'):\n",
        "#   for filename in filenames:\n",
        "#     pass\n",
        "#     #print(os.path.join(dirpath, filename))\n",
        "\n",
        "# with open('/content/test.csv','r') as f1:\n",
        "#   for i, line in enumerate(f1):\n",
        "#     print(line.strip())\n",
        "#     if i == 3:\n",
        "#       break\n",
        "\n",
        "train = pd.read_csv('/content/train.csv')\n",
        "train.head(3)\n",
        "\n",
        "test = pd.read_csv('/content/test.csv')\n",
        "\n",
        "#Графики\n",
        "#sns.countplot(x = 'Pclass', hue = 'Survived', data = train)\n",
        "\n",
        "#sns.countplot(x = 'Sex', hue = 'Survived', data = train)\n",
        "\n",
        "#train.isnull().sum()\n",
        "\n",
        "#Вырезаем ненужные данные\n",
        "train.drop(columns = 'Cabin', axis = 1, inplace = True)\n",
        "train['Age'].fillna(train['Age'].mean(), inplace = True)\n",
        "train.dropna(inplace = True)\n",
        "# train.isnull().sum()\n",
        "\n",
        "pd.get_dummies(train['Sex']).head(3)\n",
        "sex = pd.get_dummies(train['Sex'], drop_first = True)\n",
        "embarked = pd.get_dummies(train['Embarked'], drop_first = True)\n",
        "pclass = pd.get_dummies(train['Pclass'], drop_first = True)\n",
        "train = pd.concat([train, pclass, sex, embarked], axis = 1)\n",
        "train.drop(['PassengerId', 'Pclass', 'Name', 'Sex', 'Ticket', 'Embarked'], axis = 1, inplace = True)\n",
        "\n",
        "#Подготовка данных для обучения модели\n",
        "from sklearn.preprocessing import StandardScaler\n",
        "\n",
        "scaler = StandardScaler()\n",
        "cols_to_scale = ['Age', 'Fare']\n",
        "scaler.fit(train[cols_to_scale])\n",
        "train[cols_to_scale] = scaler.transform(train[cols_to_scale])\n",
        "train.columns = train.columns.map(str)\n",
        "\n",
        "X_train = train.drop('Survived', axis = 1)\n",
        "y_train = train['Survived']\n",
        "\n",
        "#Обучаем модель\n",
        "from sklearn.linear_model import LogisticRegression\n",
        "\n",
        "#print(X_train)\n",
        "model = LogisticRegression()\n",
        "#print(model)\n",
        "model.fit(X_train, y_train)\n",
        "y_pred_train = model.predict(X_train)\n",
        "\n",
        "#Матрица ошибок\n",
        "from sklearn.metrics import confusion_matrix\n",
        "conf_matrix = confusion_matrix(y_train, y_pred_train)\n",
        "conf_matrix_df = pd.DataFrame(conf_matrix)\n",
        "\n",
        "#print(conf_matrix_df)\n",
        "\n",
        "conf_matrix_labels = pd.DataFrame(conf_matrix, columns = ['Прогноз погиб', 'Прогноз выжил'], index = ['Факт погиб', 'Факт выжил'])\n",
        "\n",
        "#Должно быть\n",
        "print(conf_matrix_labels)\n",
        "print(round((478+237)/(478+237+71+103),3))\n",
        "\n",
        "#Выдало\n",
        "from sklearn.metrics import accuracy_score\n",
        "model_accuracy = accuracy_score(y_train, y_pred_train)\n",
        "print(round(model_accuracy, 3))\n",
        "\n",
        "#Построение прогноза на тестовых данных\n",
        "#test.info()\n",
        "X_test = test\n",
        "X_test['Age'].fillna(test['Age'].mean(), inplace = True)\n",
        "X_test['Fare'].fillna(test['Fare'].mean(), inplace = True)\n",
        "sex = pd.get_dummies(X_test['Sex'], drop_first = True)\n",
        "embarked = pd.get_dummies(X_test['Embarked'], drop_first = True)\n",
        "pclass = pd.get_dummies(X_test['Pclass'], drop_first = True)\n",
        "X_test = pd.concat([test, pclass, sex, embarked], axis = 1)\n",
        "X_test.drop(['PassengerId', 'Pclass', 'Name', 'Sex', 'Cabin', 'Ticket', 'Embarked'], axis = 1, inplace = True)\n",
        "#X_test.head(3)\n",
        "X_test[cols_to_scale] = scaler.transform(X_test[cols_to_scale])\n",
        "#X_test.head(3)\n",
        "X_test.columns = X_test.columns.map(str)\n",
        "y_pred_test = model.predict(X_test)\n",
        "print(y_pred_test[:10])\n",
        "\n",
        "#Result\n",
        "ids = test['PassengerId']\n",
        "result = pd.DataFrame({'PassengerId': ids, 'Survived': y_pred_test})\n",
        "result.head()\n",
        "\n",
        "result.to_csv('result.csv', index = False)\n",
        "print(\"Всё работает\")"
      ]
    },
    {
      "cell_type": "code",
      "source": [
        "from google.colab import files\n",
        "\n",
        "files.download('/content/result.csv')"
      ],
      "metadata": {
        "colab": {
          "base_uri": "https://localhost:8080/",
          "height": 17
        },
        "id": "APT06PGYJca0",
        "outputId": "d3ebc64b-1815-45b0-c178-bdd4c492a648"
      },
      "execution_count": 101,
      "outputs": [
        {
          "output_type": "display_data",
          "data": {
            "text/plain": [
              "<IPython.core.display.Javascript object>"
            ],
            "application/javascript": [
              "\n",
              "    async function download(id, filename, size) {\n",
              "      if (!google.colab.kernel.accessAllowed) {\n",
              "        return;\n",
              "      }\n",
              "      const div = document.createElement('div');\n",
              "      const label = document.createElement('label');\n",
              "      label.textContent = `Downloading \"${filename}\": `;\n",
              "      div.appendChild(label);\n",
              "      const progress = document.createElement('progress');\n",
              "      progress.max = size;\n",
              "      div.appendChild(progress);\n",
              "      document.body.appendChild(div);\n",
              "\n",
              "      const buffers = [];\n",
              "      let downloaded = 0;\n",
              "\n",
              "      const channel = await google.colab.kernel.comms.open(id);\n",
              "      // Send a message to notify the kernel that we're ready.\n",
              "      channel.send({})\n",
              "\n",
              "      for await (const message of channel.messages) {\n",
              "        // Send a message to notify the kernel that we're ready.\n",
              "        channel.send({})\n",
              "        if (message.buffers) {\n",
              "          for (const buffer of message.buffers) {\n",
              "            buffers.push(buffer);\n",
              "            downloaded += buffer.byteLength;\n",
              "            progress.value = downloaded;\n",
              "          }\n",
              "        }\n",
              "      }\n",
              "      const blob = new Blob(buffers, {type: 'application/binary'});\n",
              "      const a = document.createElement('a');\n",
              "      a.href = window.URL.createObjectURL(blob);\n",
              "      a.download = filename;\n",
              "      div.appendChild(a);\n",
              "      a.click();\n",
              "      div.remove();\n",
              "    }\n",
              "  "
            ]
          },
          "metadata": {}
        },
        {
          "output_type": "display_data",
          "data": {
            "text/plain": [
              "<IPython.core.display.Javascript object>"
            ],
            "application/javascript": [
              "download(\"download_97bcd8e1-b00d-41e9-9bb2-faaf53feeb81\", \"result.csv\", 2839)"
            ]
          },
          "metadata": {}
        }
      ]
    }
  ]
}
